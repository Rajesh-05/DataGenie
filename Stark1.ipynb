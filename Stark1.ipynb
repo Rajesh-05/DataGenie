{
 "cells": [
  {
   "cell_type": "code",
   "execution_count": 1,
   "metadata": {},
   "outputs": [],
   "source": [
    "! pip install -q -U google-generativeai"
   ]
  },
  {
   "cell_type": "code",
   "execution_count": 3,
   "metadata": {},
   "outputs": [
    {
     "name": "stdout",
     "output_type": "stream",
     "text": [
      "response:\n",
      "GenerateContentResponse(\n",
      "    done=True,\n",
      "    iterator=None,\n",
      "    result=glm.GenerateContentResponse({'candidates': [{'content': {'parts': [{'text': '```python\\n# function to print a square of stars\\ndef print_square_stars(n):\\n    for i in range(n):\\n        for j in range(n):\\n            print(\"*\", end=\"\")\\n        print()\\n\\n# main function\\nif __name__ == \"__main__\":\\n    n = int(input(\"Enter the size of the square: \"))\\n    print_square_stars(n)\\n```'}], 'role': 'model'}, 'finish_reason': 1, 'index': 0, 'safety_ratings': [{'category': 9, 'probability': 1, 'blocked': False}, {'category': 8, 'probability': 1, 'blocked': False}, {'category': 7, 'probability': 1, 'blocked': False}, {'category': 10, 'probability': 1, 'blocked': False}], 'token_count': 0, 'grounding_attributions': []}]}),\n",
      ")\n",
      "<class 'str'>\n",
      "***************\n",
      "***************\n",
      "***************\n",
      "***************\n",
      "***************\n",
      "***************\n",
      "***************\n",
      "***************\n",
      "***************\n",
      "***************\n",
      "***************\n",
      "***************\n",
      "***************\n",
      "***************\n",
      "***************\n",
      "None\n"
     ]
    }
   ],
   "source": [
    "import ast\n",
    "def send_prompt_to_gemini(prompt):\n",
    "    response = model.generate_content(prompt)\n",
    "    print(response)\n",
    "    print(type(response.text))\n",
    "    return response.text[9:-4]\n",
    "\n",
    "\n",
    "\n",
    "def analyze_user_prompt(prompt):\n",
    "\n",
    "    gemini_response = send_prompt_to_gemini(prompt)  # Replace with your API key\n",
    "\n",
    "    # Assume response_text contains the code snippet from the API\n",
    "    response_text = \"\"\"\n",
    "# Get the number from the user\n",
    "num = int(input(\"Enter\"))\n",
    "\n",
    "# Check if the number is even or odd\n",
    "if num % 2 == 0:\n",
    "    print(f\"{num} is even.\")\n",
    "else:\n",
    "    print(f\"{num} is odd.\")\n",
    "    \"\"\"\n",
    "\n",
    "    # Safely parse the response text as a Python AST (Abstract Syntax Tree)\n",
    "    parsed_ast = ast.parse(gemini_response)\n",
    "\n",
    "    # else:\n",
    "        # Execute the parsed AST\n",
    "    exec(compile(parsed_ast, filename=\"<ast>\", mode=\"exec\"))\n",
    "\n",
    "\n",
    "\n",
    "user_prompt = input(\"Hi::\")\n",
    "analysis_response = analyze_user_prompt(\"write code to print star pattern also give main function\")\n",
    "print(analysis_response)\n"
   ]
  },
  {
   "cell_type": "code",
   "execution_count": 2,
   "metadata": {},
   "outputs": [],
   "source": [
    "import google.generativeai as genai\n",
    "\n",
    "genai.configure(api_key=\"your_api_key\")\n",
    "model = genai.GenerativeModel('gemini-pro')"
   ]
  },
  {
   "cell_type": "code",
   "execution_count": 3,
   "metadata": {},
   "outputs": [
    {
     "name": "stdout",
     "output_type": "stream",
     "text": [
      "In the quaint town of Willow Creek, nestled amidst rolling green hills, there lived a curious young girl named Anya. Unbeknownst to her, destiny had an extraordinary surprise in store for her.\n",
      "\n",
      "One sunny afternoon, as Anya wandered through the bustling town square, her eyes caught a vibrant display in the window of an antique shop. Among the dusty trinkets and vintage treasures, a peculiar backpack stood out, its faded leather adorned with intricate golden stitching.\n",
      "\n",
      "Driven by an inexplicable pull, Anya stepped inside and reached for the backpack. As her fingers brushed its soft surface, a surge of warmth coursed through her body, and she felt an overwhelming sense of belonging. With trembling hands, she purchased the enigmatic backpack and carried it home.\n",
      "\n",
      "Little did Anya know that this ordinary-looking backpack possessed an extraordinary secret. As the moon cast its silvery glow upon her room that night, Anya opened the backpack's zipper. To her astonishment, instead of the books and pencils she expected, a swirling vortex of colors and light materialized before her eyes.\n",
      "\n",
      "Cautiously, Anya reached out and touched the vortex. In an instant, she was enveloped in a kaleidoscope of hues, and her surroundings melted away. Suddenly, she found herself transported to a realm of boundless imagination and adventure.\n",
      "\n",
      "Within the backpack's vortex, Anya encountered talking animals, mischievous fairies, and wise old wizards. She sailed the high seas on a rainbow-colored boat, rode on the back of a winged unicorn, and learned the secrets of ancient runes.\n",
      "\n",
      "With each new adventure, Anya's wonder and excitement grew. She discovered hidden waterfalls, explored enchanted forests, and solved cryptic puzzles. The backpack, she realized, was a gateway to a world where anything was possible.\n",
      "\n",
      "As days turned into weeks, Anya's life became an extraordinary tapestry woven with the threads of magic and wonder. However, with great power came great responsibility, and Anya understood that she had to use the backpack's magic wisely.\n",
      "\n",
      "Over time, Anya's adventures taught her the importance of courage, kindness, and the boundless power of imagination. She used the backpack to spread joy and laughter to others, inspiring them to embrace their own dreams and aspirations.\n",
      "\n",
      "And so, the magic backpack of Willow Creek became a legend passed down through generations. It was a reminder that even within the most ordinary of objects, the extraordinary could be found, and that with a touch of imagination, the world could be transformed into a realm of endless adventure.\n"
     ]
    }
   ],
   "source": [
    "response = model.generate_content(\"Write a story about a magic backpack.\")\n",
    "print(response.text)"
   ]
  },
  {
   "cell_type": "code",
   "execution_count": null,
   "metadata": {},
   "outputs": [],
   "source": []
  }
 ],
 "metadata": {
  "kernelspec": {
   "display_name": "base",
   "language": "python",
   "name": "python3"
  },
  "language_info": {
   "codemirror_mode": {
    "name": "ipython",
    "version": 3
   },
   "file_extension": ".py",
   "mimetype": "text/x-python",
   "name": "python",
   "nbconvert_exporter": "python",
   "pygments_lexer": "ipython3",
   "version": "3.10.13"
  }
 },
 "nbformat": 4,
 "nbformat_minor": 2
}
