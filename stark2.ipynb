{
 "cells": [
  {
   "cell_type": "code",
   "execution_count": 4,
   "metadata": {},
   "outputs": [],
   "source": [
    "import pandas as pd\n",
    "import ast"
   ]
  },
  {
   "cell_type": "code",
   "execution_count": 3,
   "metadata": {},
   "outputs": [],
   "source": [
    "from groq import Groq\n",
    "\n",
    "client = Groq(\n",
    "    api_key=\"your_api_key\",\n",
    ")"
   ]
  },
  {
   "cell_type": "code",
   "execution_count": null,
   "metadata": {},
   "outputs": [],
   "source": [
    "df = []"
   ]
  },
  {
   "cell_type": "code",
   "execution_count": 5,
   "metadata": {},
   "outputs": [],
   "source": [
    "df = pd.read_csv(\"C:/Users/Rajesh/Downloads/food2.csv\")\n",
    "tst = df.head()"
   ]
  },
  {
   "cell_type": "code",
   "execution_count": 75,
   "metadata": {},
   "outputs": [
    {
     "data": {
      "text/plain": [
       "Alcohol value               0\n",
       "Methane value               0\n",
       "Temperature                 8\n",
       "Humidity                    0\n",
       "Food Condition              0\n",
       "Life Expectancy             0\n",
       "Estimated Ethylene Level    0\n",
       "dtype: int64"
      ]
     },
     "execution_count": 75,
     "metadata": {},
     "output_type": "execute_result"
    }
   ],
   "source": [
    "df.isnull().sum()"
   ]
  },
  {
   "cell_type": "code",
   "execution_count": 21,
   "metadata": {},
   "outputs": [
    {
     "data": {
      "text/html": [
       "<div>\n",
       "<style scoped>\n",
       "    .dataframe tbody tr th:only-of-type {\n",
       "        vertical-align: middle;\n",
       "    }\n",
       "\n",
       "    .dataframe tbody tr th {\n",
       "        vertical-align: top;\n",
       "    }\n",
       "\n",
       "    .dataframe thead th {\n",
       "        text-align: right;\n",
       "    }\n",
       "</style>\n",
       "<table border=\"1\" class=\"dataframe\">\n",
       "  <thead>\n",
       "    <tr style=\"text-align: right;\">\n",
       "      <th></th>\n",
       "      <th>Alcohol value</th>\n",
       "      <th>Methane value</th>\n",
       "      <th>Temperature</th>\n",
       "      <th>Humidity</th>\n",
       "      <th>Food Condition</th>\n",
       "      <th>Life Expectancy</th>\n",
       "      <th>Estimated Ethylene Level</th>\n",
       "    </tr>\n",
       "  </thead>\n",
       "  <tbody>\n",
       "    <tr>\n",
       "      <th>0</th>\n",
       "      <td>440.0</td>\n",
       "      <td>435.0</td>\n",
       "      <td>42.0</td>\n",
       "      <td>46.0</td>\n",
       "      <td>Spoiled</td>\n",
       "      <td>2.380952</td>\n",
       "      <td>100</td>\n",
       "    </tr>\n",
       "    <tr>\n",
       "      <th>1</th>\n",
       "      <td>370.0</td>\n",
       "      <td>380.0</td>\n",
       "      <td>35.0</td>\n",
       "      <td>40.0</td>\n",
       "      <td>Unspoiled</td>\n",
       "      <td>8.333333</td>\n",
       "      <td>29</td>\n",
       "    </tr>\n",
       "    <tr>\n",
       "      <th>2</th>\n",
       "      <td>405.0</td>\n",
       "      <td>410.0</td>\n",
       "      <td>40.0</td>\n",
       "      <td>43.0</td>\n",
       "      <td>Unspoiled</td>\n",
       "      <td>5.263158</td>\n",
       "      <td>14</td>\n",
       "    </tr>\n",
       "    <tr>\n",
       "      <th>3</th>\n",
       "      <td>345.0</td>\n",
       "      <td>355.0</td>\n",
       "      <td>32.0</td>\n",
       "      <td>39.0</td>\n",
       "      <td>Unspoiled</td>\n",
       "      <td>10.526316</td>\n",
       "      <td>42</td>\n",
       "    </tr>\n",
       "    <tr>\n",
       "      <th>4</th>\n",
       "      <td>430.0</td>\n",
       "      <td>420.0</td>\n",
       "      <td>41.0</td>\n",
       "      <td>45.0</td>\n",
       "      <td>Spoiled</td>\n",
       "      <td>2.857143</td>\n",
       "      <td>100</td>\n",
       "    </tr>\n",
       "  </tbody>\n",
       "</table>\n",
       "</div>"
      ],
      "text/plain": [
       "   Alcohol value  Methane value  Temperature  Humidity Food Condition  \\\n",
       "0          440.0          435.0         42.0      46.0        Spoiled   \n",
       "1          370.0          380.0         35.0      40.0      Unspoiled   \n",
       "2          405.0          410.0         40.0      43.0      Unspoiled   \n",
       "3          345.0          355.0         32.0      39.0      Unspoiled   \n",
       "4          430.0          420.0         41.0      45.0        Spoiled   \n",
       "\n",
       "   Life Expectancy  Estimated Ethylene Level  \n",
       "0         2.380952                       100  \n",
       "1         8.333333                        29  \n",
       "2         5.263158                        14  \n",
       "3        10.526316                        42  \n",
       "4         2.857143                       100  "
      ]
     },
     "execution_count": 21,
     "metadata": {},
     "output_type": "execute_result"
    }
   ],
   "source": [
    "(tst)"
   ]
  },
  {
   "cell_type": "code",
   "execution_count": 15,
   "metadata": {},
   "outputs": [],
   "source": [
    "# Process CSV \n",
    "\n",
    "def process_csv () :\n",
    "    # global df\n",
    "    # path = \"\"\n",
    "    # df = pd.read_csv(path)\n",
    "    chat_completion = client.chat.completions.create(\n",
    "    messages=[\n",
    "        {\n",
    "            \"role\": \"user\",\n",
    "            \"content\": f\"This is the dataset i have : {tst} , explain and summarize it in 2 lines\" ,\n",
    "        }\n",
    "    ],\n",
    "    model=\"llama3-8b-8192\",\n",
    "    )\n",
    "    response_text = chat_completion.choices[0].message.content\n",
    "    print(response_text)\n"
   ]
  },
  {
   "cell_type": "code",
   "execution_count": 56,
   "metadata": {},
   "outputs": [
    {
     "name": "stdout",
     "output_type": "stream",
     "text": [
      "Here is the code:\n",
      "```\n",
      "df['Temperature'].dropna(inplace=True)\n",
      "```\n"
     ]
    }
   ],
   "source": [
    "# PreProcessing\n",
    "\n",
    "chat_completion = client.chat.completions.create(\n",
    "messages=[\n",
    "    {\n",
    "        \"role\": \"user\",\n",
    "        \"content\": f\"This is the dataset i have : {tst} , give a code to remove null values from the temperature column also call it , give code only dont give explanation , do all in inplace so that it updates in realtime\" ,\n",
    "    }\n",
    "],\n",
    "model=\"llama3-8b-8192\",\n",
    ")\n",
    "response_text = chat_completion.choices[0].message.content\n",
    "print(response_text)\n"
   ]
  },
  {
   "cell_type": "code",
   "execution_count": 35,
   "metadata": {},
   "outputs": [
    {
     "name": "stdout",
     "output_type": "stream",
     "text": [
      "\"Temperature Null Values Successfully Removed!\"\n",
      "\n",
      "\"The dataset is now null-free!\"\n"
     ]
    }
   ],
   "source": [
    "# PreProcessing\n",
    "\n",
    "chat_completion = client.chat.completions.create(\n",
    "messages=[\n",
    "    {\n",
    "        \"role\": \"user\",\n",
    "        \"content\": f\"This is the dataset i have : {tst} , give a code to remove null values from the temperature column also call it , give code only dont give explanation , do all in inplace so that it updates in realtime\" ,\n",
    "    }\n",
    "    \n",
    "],\n",
    "model=\"llama3-8b-8192\",\n",
    ")\n",
    "# print\n",
    "response_text = chat_completion.choices[0].message.content\n",
    "print(response_text)\n"
   ]
  },
  {
   "cell_type": "code",
   "execution_count": 39,
   "metadata": {},
   "outputs": [
    {
     "data": {
      "text/plain": [
       "ChatCompletion(choices=[Choice(finish_reason='stop', index=0, logprobs=None, message=ChoiceMessage(content='\"Temperature Null Values Successfully Removed!\"\\n\\n\"The dataset is now null-free!\"', role='assistant', tool_calls=None))], id='chatcmpl-79f383fc-d42b-4efa-bba8-1dfcc23f273e', created=1716789899, model='llama3-8b-8192', object='chat.completion', system_fingerprint='fp_c5f20b5bb1', usage=Usage(completion_time=0.014896038, completion_tokens=14, prompt_time=0.07560093, prompt_tokens=282, queue_time=None, total_time=0.090496968, total_tokens=296), x_groq={'id': 'req_01hywadw0dfxctcg1dkc5471sc'})"
      ]
     },
     "execution_count": 39,
     "metadata": {},
     "output_type": "execute_result"
    }
   ],
   "source": [
    "chat_completion"
   ]
  },
  {
   "cell_type": "code",
   "execution_count": 81,
   "metadata": {},
   "outputs": [
    {
     "data": {
      "text/html": [
       "<div>\n",
       "<style scoped>\n",
       "    .dataframe tbody tr th:only-of-type {\n",
       "        vertical-align: middle;\n",
       "    }\n",
       "\n",
       "    .dataframe tbody tr th {\n",
       "        vertical-align: top;\n",
       "    }\n",
       "\n",
       "    .dataframe thead th {\n",
       "        text-align: right;\n",
       "    }\n",
       "</style>\n",
       "<table border=\"1\" class=\"dataframe\">\n",
       "  <thead>\n",
       "    <tr style=\"text-align: right;\">\n",
       "      <th></th>\n",
       "      <th>Alcohol value</th>\n",
       "      <th>Methane value</th>\n",
       "      <th>Temperature</th>\n",
       "      <th>Humidity</th>\n",
       "      <th>Life Expectancy</th>\n",
       "      <th>Estimated Ethylene Level</th>\n",
       "    </tr>\n",
       "  </thead>\n",
       "  <tbody>\n",
       "    <tr>\n",
       "      <th>count</th>\n",
       "      <td>96.000000</td>\n",
       "      <td>96.000000</td>\n",
       "      <td>88.000000</td>\n",
       "      <td>96.000000</td>\n",
       "      <td>96.000000</td>\n",
       "      <td>96.000000</td>\n",
       "    </tr>\n",
       "    <tr>\n",
       "      <th>mean</th>\n",
       "      <td>381.076771</td>\n",
       "      <td>405.834167</td>\n",
       "      <td>37.995227</td>\n",
       "      <td>41.961042</td>\n",
       "      <td>4.428997</td>\n",
       "      <td>67.052083</td>\n",
       "    </tr>\n",
       "    <tr>\n",
       "      <th>std</th>\n",
       "      <td>47.857808</td>\n",
       "      <td>25.502710</td>\n",
       "      <td>4.069199</td>\n",
       "      <td>4.354884</td>\n",
       "      <td>2.514535</td>\n",
       "      <td>36.469272</td>\n",
       "    </tr>\n",
       "    <tr>\n",
       "      <th>min</th>\n",
       "      <td>304.910000</td>\n",
       "      <td>351.080000</td>\n",
       "      <td>30.130000</td>\n",
       "      <td>35.020000</td>\n",
       "      <td>1.000000</td>\n",
       "      <td>14.000000</td>\n",
       "    </tr>\n",
       "    <tr>\n",
       "      <th>25%</th>\n",
       "      <td>334.890000</td>\n",
       "      <td>386.400000</td>\n",
       "      <td>34.967500</td>\n",
       "      <td>38.267500</td>\n",
       "      <td>2.000000</td>\n",
       "      <td>28.750000</td>\n",
       "    </tr>\n",
       "    <tr>\n",
       "      <th>50%</th>\n",
       "      <td>381.660000</td>\n",
       "      <td>406.890000</td>\n",
       "      <td>38.350000</td>\n",
       "      <td>42.000000</td>\n",
       "      <td>4.000000</td>\n",
       "      <td>100.000000</td>\n",
       "    </tr>\n",
       "    <tr>\n",
       "      <th>75%</th>\n",
       "      <td>419.037500</td>\n",
       "      <td>425.065000</td>\n",
       "      <td>41.015000</td>\n",
       "      <td>45.760000</td>\n",
       "      <td>6.000000</td>\n",
       "      <td>100.000000</td>\n",
       "    </tr>\n",
       "    <tr>\n",
       "      <th>max</th>\n",
       "      <td>468.360000</td>\n",
       "      <td>449.730000</td>\n",
       "      <td>44.990000</td>\n",
       "      <td>49.890000</td>\n",
       "      <td>11.000000</td>\n",
       "      <td>100.000000</td>\n",
       "    </tr>\n",
       "  </tbody>\n",
       "</table>\n",
       "</div>"
      ],
      "text/plain": [
       "       Alcohol value  Methane value  Temperature   Humidity  Life Expectancy  \\\n",
       "count      96.000000      96.000000    88.000000  96.000000        96.000000   \n",
       "mean      381.076771     405.834167    37.995227  41.961042         4.428997   \n",
       "std        47.857808      25.502710     4.069199   4.354884         2.514535   \n",
       "min       304.910000     351.080000    30.130000  35.020000         1.000000   \n",
       "25%       334.890000     386.400000    34.967500  38.267500         2.000000   \n",
       "50%       381.660000     406.890000    38.350000  42.000000         4.000000   \n",
       "75%       419.037500     425.065000    41.015000  45.760000         6.000000   \n",
       "max       468.360000     449.730000    44.990000  49.890000        11.000000   \n",
       "\n",
       "       Estimated Ethylene Level  \n",
       "count                 96.000000  \n",
       "mean                  67.052083  \n",
       "std                   36.469272  \n",
       "min                   14.000000  \n",
       "25%                   28.750000  \n",
       "50%                  100.000000  \n",
       "75%                  100.000000  \n",
       "max                  100.000000  "
      ]
     },
     "execution_count": 81,
     "metadata": {},
     "output_type": "execute_result"
    }
   ],
   "source": [
    "df.describe()"
   ]
  },
  {
   "cell_type": "code",
   "execution_count": 82,
   "metadata": {},
   "outputs": [
    {
     "name": "stdout",
     "output_type": "stream",
     "text": [
      "<class 'pandas.core.frame.DataFrame'>\n",
      "RangeIndex: 96 entries, 0 to 95\n",
      "Data columns (total 7 columns):\n",
      " #   Column                    Non-Null Count  Dtype  \n",
      "---  ------                    --------------  -----  \n",
      " 0   Alcohol value             96 non-null     float64\n",
      " 1   Methane value             96 non-null     float64\n",
      " 2   Temperature               88 non-null     float64\n",
      " 3   Humidity                  96 non-null     float64\n",
      " 4   Food Condition            96 non-null     object \n",
      " 5   Life Expectancy           96 non-null     float64\n",
      " 6   Estimated Ethylene Level  96 non-null     int64  \n",
      "dtypes: float64(5), int64(1), object(1)\n",
      "memory usage: 5.4+ KB\n"
     ]
    }
   ],
   "source": [
    "info = df.info()"
   ]
  },
  {
   "cell_type": "code",
   "execution_count": 88,
   "metadata": {},
   "outputs": [
    {
     "name": "stdout",
     "output_type": "stream",
     "text": [
      "You're working on preprocessing a dataset!\n",
      "\n",
      "Here are three suggestions for what you could do next:\n",
      "\n",
      "1. **Data Exploration**: Look for correlations and patterns in your data using techniques like scatter plots, heatmaps, or correlation matrices. This will help you understand the relationships between your variables and identify potential issues, such as missing values or outliers.\n",
      "2. **Handling Missing Values**: Since you didn't mention anything about missing values, you might want to investigate how to handle them. You could decide to impute missing values using a mean, median, or interpolation technique, or even remove the rows with missing values altogether if they're not too crucial to your analysis.\n",
      "3. **Data Transformation**: Some of your variables, like Life Expectancy and Estimated Ethylene Level, seem to be continuous or categorical variables, while others, like Food Condition and Humidity, are likely categorical variables. You might want to consider converting these variables to a suitable format for your analysis, such as one-hot encoding or normalization.\n",
      "\n",
      "What do you think?\n"
     ]
    }
   ],
   "source": [
    "# Suggessions\n",
    "\n",
    "chat_completion = client.chat.completions.create(\n",
    "messages=[\n",
    "    {\n",
    "        \"role\": \"user\",\n",
    "        \"content\": f\"I'm working on preprocessing a DataSet ,  This is the dataset i have : {tst} and its info : {info},give me 3 suggests to what to do further in 3 lines\" ,\n",
    "    }\n",
    "],\n",
    "model=\"llama3-8b-8192\",\n",
    ")\n",
    "response_text = chat_completion.choices[0].message.content\n",
    "print(response_text)\n"
   ]
  },
  {
   "cell_type": "code",
   "execution_count": 104,
   "metadata": {},
   "outputs": [
    {
     "name": "stderr",
     "output_type": "stream",
     "text": [
      "2024-05-26 23:25:36.471 HTTP Request: POST https://api.groq.com/openai/v1/chat/completions \"HTTP/1.1 200 OK\"\n"
     ]
    },
    {
     "name": "stdout",
     "output_type": "stream",
     "text": [
      "Here are the top 5 links to download a dataset for House Prize Prediction:\n",
      "\n",
      "**1. Kaggle - House Prices**\n",
      "\n",
      "* Dataset source: Kaggle (Competition: House Prices)\n",
      "* Fields: 13 attributes, including variables like Number of rooms, Flooring, Address, Overall condition, Bathroom size, and more\n",
      "* Size: 15,841 rows (features: 79)\n",
      "* Format: CSV\n",
      "* Download link: [Kaggle - House Prices](https://www.kaggle.com/c/house-prices-advanced-regression-techniques/data)\n",
      "\n",
      "**2. UCI Machine Learning Repository - Boston Housing**\n",
      "\n",
      "* Dataset source: University of California, Irvine (UCI) Machine Learning Repository\n",
      "* Fields: 14 attributes, including variables like RM (number of rooms), NOX (nitrogen oxides), and so on\n",
      "* Size: 506 rows (features: 13)\n",
      "* Format: CSV (also available in other formats like ARFF, XML)\n",
      "* Download link: [UCI Machine Learning Repository - Boston Housing](https://archive.ics.uci.edu/ml/datasets/Boston+Housing)\n",
      "\n",
      "**3. Data Science Bowl 2015 - House Prices**\n",
      "\n",
      "* Dataset source: Kaggle (Data Science Bowl 2015)\n",
      "* Fields: 10 attributes, including variables like House size, Number of floors, Number of bedrooms, and more\n",
      "* Size: 20,842 rows (features: 11)\n",
      "* Format: CSV\n",
      "* Download link: [Kaggle - Data Science Bowl 2015](https://www.kaggle.com/c/dsbow2015/data)\n",
      "\n",
      "**4. Google Dataset Search - House Price Prediction**\n",
      "\n",
      "* Dataset source: Google Dataset Search (Various sources)\n",
      "* Fields: Varying attributes, including variables like Location, House size, Number of bedrooms, and more\n",
      "* Size: Varying sizes (some datasets have hundreds of rows, others thousands)\n",
      "* Format: Varying formats like CSV, JSON, and more\n",
      "* Download link: [Google Dataset Search - House Price Prediction](https://datasetsearch.research.google.com/search?q=House+Price+Prediction&btnG=Search+datasets)\n",
      "\n",
      "**5. UCI Machine Learning Repository - California Housing**\n",
      "\n",
      "* Dataset source: University of California, Irvine (UCI) Machine Learning Repository\n",
      "* Fields: 10 attributes, including variables like House size, Number of bedrooms, and more\n",
      "* Size: 20,640 rows (features: 9)\n",
      "* Format: CSV (also available in other formats like ARFF, XML)\n",
      "* Download link: [UCI Machine Learning Repository - California Housing](https://archive.ics.uci.edu/ml/datasets/CAL_HOUSING)\n",
      "\n",
      "Remember to verify the dataset's integrity and format compatibility with your analysis software before proceeding. Happy modeling!\n"
     ]
    }
   ],
   "source": [
    "# Search DATASET ...,\n",
    "\n",
    "chat_completion = client.chat.completions.create(\n",
    "messages=[\n",
    "    {\n",
    "        \"role\": \"user\",\n",
    "        \"content\": f\"I need a dataset for House Prize Prediction , Provide me top 5 links to download the dataset\" ,\n",
    "    }\n",
    "],\n",
    "model=\"llama3-8b-8192\",\n",
    ")\n",
    "response_text = chat_completion.choices[0].message.content\n",
    "print(response_text)\n"
   ]
  },
  {
   "cell_type": "code",
   "execution_count": 57,
   "metadata": {},
   "outputs": [
    {
     "data": {
      "text/plain": [
       "\"Here is the code:\\n```\\ndf['Temperature'].dropna(inplace=True)\\n```\""
      ]
     },
     "execution_count": 57,
     "metadata": {},
     "output_type": "execute_result"
    }
   ],
   "source": [
    "response_text"
   ]
  },
  {
   "cell_type": "code",
   "execution_count": 61,
   "metadata": {},
   "outputs": [
    {
     "data": {
      "text/plain": [
       "18"
      ]
     },
     "execution_count": 61,
     "metadata": {},
     "output_type": "execute_result"
    }
   ],
   "source": [
    "response_text.index(\"```\")"
   ]
  },
  {
   "cell_type": "code",
   "execution_count": 64,
   "metadata": {},
   "outputs": [
    {
     "data": {
      "text/plain": [
       "\"df['Temperature'].dropna(inplace=True)\\n\""
      ]
     },
     "execution_count": 64,
     "metadata": {},
     "output_type": "execute_result"
    }
   ],
   "source": [
    "response_text[22:61]"
   ]
  },
  {
   "cell_type": "code",
   "execution_count": 12,
   "metadata": {},
   "outputs": [],
   "source": [
    "import re"
   ]
  },
  {
   "cell_type": "code",
   "execution_count": 13,
   "metadata": {},
   "outputs": [
    {
     "ename": "NameError",
     "evalue": "name 'response_text' is not defined",
     "output_type": "error",
     "traceback": [
      "\u001b[1;31m---------------------------------------------------------------------------\u001b[0m",
      "\u001b[1;31mNameError\u001b[0m                                 Traceback (most recent call last)",
      "Cell \u001b[1;32mIn[13], line 4\u001b[0m\n\u001b[0;32m      1\u001b[0m pattern \u001b[38;5;241m=\u001b[39m \u001b[38;5;124mr\u001b[39m\u001b[38;5;124m\"\u001b[39m\u001b[38;5;124m```(.*?)```\u001b[39m\u001b[38;5;124m\"\u001b[39m\n\u001b[0;32m      3\u001b[0m \u001b[38;5;66;03m# Find all matches\u001b[39;00m\n\u001b[1;32m----> 4\u001b[0m matches \u001b[38;5;241m=\u001b[39m re\u001b[38;5;241m.\u001b[39mfindall(pattern, \u001b[43mresponse_text\u001b[49m, re\u001b[38;5;241m.\u001b[39mDOTALL)\n",
      "\u001b[1;31mNameError\u001b[0m: name 'response_text' is not defined"
     ]
    }
   ],
   "source": [
    "pattern = r\"```(.*?)```\"\n",
    "\n",
    "# Find all matches\n",
    "matches = re.findall(pattern, response_text, re.DOTALL)"
   ]
  },
  {
   "cell_type": "code",
   "execution_count": 69,
   "metadata": {},
   "outputs": [
    {
     "data": {
      "text/plain": [
       "\"\\ndf['Temperature'].dropna(inplace=True)\\n\""
      ]
     },
     "execution_count": 69,
     "metadata": {},
     "output_type": "execute_result"
    }
   ],
   "source": [
    "matches[0]"
   ]
  },
  {
   "cell_type": "code",
   "execution_count": 16,
   "metadata": {},
   "outputs": [
    {
     "name": "stdout",
     "output_type": "stream",
     "text": [
      "Here is a 2-line summary of your dataset:\n",
      "\n",
      "This dataset appears to be related to food spoilage, with variables such as alcohol and methane values, temperature, humidity, food condition, life expectancy, and estimated ethylene level potentially influencing the spoilage of food. The dataset contains 5 observations, with conditions ranging from \"Spoiled\" to \"Unspoiled\", suggesting that the goal is to develop a predictive model for food spoilage using these variables.\n"
     ]
    }
   ],
   "source": [
    "process_csv()"
   ]
  },
  {
   "cell_type": "code",
   "execution_count": 50,
   "metadata": {},
   "outputs": [],
   "source": [
    "response_text = '```\\ndf = df.dropna(subset=[\"Temperature\"],inplace=True)\\n```'"
   ]
  },
  {
   "cell_type": "code",
   "execution_count": 54,
   "metadata": {},
   "outputs": [
    {
     "data": {
      "text/plain": [
       "'d'"
      ]
     },
     "execution_count": 54,
     "metadata": {},
     "output_type": "execute_result"
    }
   ],
   "source": [
    "response_text[9]"
   ]
  },
  {
   "cell_type": "code",
   "execution_count": 71,
   "metadata": {},
   "outputs": [],
   "source": [
    "# Safely parse the response text as a Python AST (Abstract Syntax Tree)\n",
    "parsed_ast = ast.parse(matches[0])\n",
    "\n",
    "# else:\n",
    "# Execute the parsed AST\n",
    "exec(compile(parsed_ast, filename=\"<ast>\", mode=\"exec\"))"
   ]
  },
  {
   "cell_type": "code",
   "execution_count": 52,
   "metadata": {},
   "outputs": [
    {
     "data": {
      "text/plain": [
       "Alcohol value               0\n",
       "Methane value               0\n",
       "Temperature                 0\n",
       "Humidity                    0\n",
       "Food Condition              0\n",
       "Life Expectancy             0\n",
       "Estimated Ethylene Level    0\n",
       "dtype: int64"
      ]
     },
     "execution_count": 52,
     "metadata": {},
     "output_type": "execute_result"
    }
   ],
   "source": [
    "df.isnull().sum()"
   ]
  },
  {
   "cell_type": "code",
   "execution_count": 9,
   "metadata": {},
   "outputs": [
    {
     "data": {
      "text/html": [
       "<div>\n",
       "<style scoped>\n",
       "    .dataframe tbody tr th:only-of-type {\n",
       "        vertical-align: middle;\n",
       "    }\n",
       "\n",
       "    .dataframe tbody tr th {\n",
       "        vertical-align: top;\n",
       "    }\n",
       "\n",
       "    .dataframe thead th {\n",
       "        text-align: right;\n",
       "    }\n",
       "</style>\n",
       "<table border=\"1\" class=\"dataframe\">\n",
       "  <thead>\n",
       "    <tr style=\"text-align: right;\">\n",
       "      <th></th>\n",
       "      <th>Alcohol value</th>\n",
       "      <th>Methane value</th>\n",
       "      <th>Temperature</th>\n",
       "      <th>Humidity</th>\n",
       "      <th>Food Condition</th>\n",
       "      <th>Life Expectancy</th>\n",
       "      <th>Estimated Ethylene Level</th>\n",
       "    </tr>\n",
       "  </thead>\n",
       "  <tbody>\n",
       "    <tr>\n",
       "      <th>0</th>\n",
       "      <td>440.0</td>\n",
       "      <td>435.0</td>\n",
       "      <td>42.0</td>\n",
       "      <td>46.0</td>\n",
       "      <td>Spoiled</td>\n",
       "      <td>2.380952</td>\n",
       "      <td>100</td>\n",
       "    </tr>\n",
       "    <tr>\n",
       "      <th>1</th>\n",
       "      <td>370.0</td>\n",
       "      <td>380.0</td>\n",
       "      <td>35.0</td>\n",
       "      <td>40.0</td>\n",
       "      <td>Unspoiled</td>\n",
       "      <td>8.333333</td>\n",
       "      <td>29</td>\n",
       "    </tr>\n",
       "    <tr>\n",
       "      <th>2</th>\n",
       "      <td>405.0</td>\n",
       "      <td>410.0</td>\n",
       "      <td>40.0</td>\n",
       "      <td>43.0</td>\n",
       "      <td>Unspoiled</td>\n",
       "      <td>5.263158</td>\n",
       "      <td>14</td>\n",
       "    </tr>\n",
       "    <tr>\n",
       "      <th>3</th>\n",
       "      <td>345.0</td>\n",
       "      <td>355.0</td>\n",
       "      <td>32.0</td>\n",
       "      <td>39.0</td>\n",
       "      <td>Unspoiled</td>\n",
       "      <td>10.526316</td>\n",
       "      <td>42</td>\n",
       "    </tr>\n",
       "    <tr>\n",
       "      <th>4</th>\n",
       "      <td>430.0</td>\n",
       "      <td>420.0</td>\n",
       "      <td>41.0</td>\n",
       "      <td>45.0</td>\n",
       "      <td>Spoiled</td>\n",
       "      <td>2.857143</td>\n",
       "      <td>100</td>\n",
       "    </tr>\n",
       "  </tbody>\n",
       "</table>\n",
       "</div>"
      ],
      "text/plain": [
       "   Alcohol value  Methane value  Temperature  Humidity Food Condition  \\\n",
       "0          440.0          435.0         42.0      46.0        Spoiled   \n",
       "1          370.0          380.0         35.0      40.0      Unspoiled   \n",
       "2          405.0          410.0         40.0      43.0      Unspoiled   \n",
       "3          345.0          355.0         32.0      39.0      Unspoiled   \n",
       "4          430.0          420.0         41.0      45.0        Spoiled   \n",
       "\n",
       "   Life Expectancy  Estimated Ethylene Level  \n",
       "0         2.380952                       100  \n",
       "1         8.333333                        29  \n",
       "2         5.263158                        14  \n",
       "3        10.526316                        42  \n",
       "4         2.857143                       100  "
      ]
     },
     "execution_count": 9,
     "metadata": {},
     "output_type": "execute_result"
    }
   ],
   "source": [
    "tst"
   ]
  },
  {
   "cell_type": "code",
   "execution_count": 32,
   "metadata": {},
   "outputs": [
    {
     "name": "stdout",
     "output_type": "stream",
     "text": [
      "Here is the Python code that uses matplotlib to visualize the columns you specified:\n",
      "```\n",
      "import matplotlib.pyplot as plt\n",
      "\n",
      "# assuming your data is in a pandas DataFrame called 'df'\n",
      "\n",
      "plt.figure(figsize=(8, 6))\n",
      "plt.subplot(1, 2, 1)\n",
      "plt.plot(df['Alcohol value'], label='Alcohol Value')\n",
      "plt.title('Alcohol Value vs Index')\n",
      "plt.xlabel('Index')\n",
      "plt.ylabel('Alcohol Value')\n",
      "plt.legend()\n",
      "plt.grid(True)\n",
      "\n",
      "plt.subplot(1, 2, 2)\n",
      "plt.plot(df['Methane value'], label='Methane Value')\n",
      "plt.title('Methane Value vs Index')\n",
      "plt.xlabel('Index')\n",
      "plt.ylabel('Methane Value')\n",
      "plt.legend()\n",
      "plt.grid(True)\n",
      "\n",
      "plt.tight_layout()\n",
      "plt.savefig('plot.png')\n",
      "plt.show()\n",
      "```\n",
      "This code creates two subplots in a single figure. The first subplot plots the 'Alcohol value' column, and the second subplot plots the 'Methane value' column. The plot title, x-axis label, and y-axis label are specified for each subplot. The grid is enabled to make it easier to read the values.\n",
      "\n",
      "After the plot is created, `plt.savefig('plot.png')` is used to save the plot as a PNG file, and `plt.show()` is used to display the plot.\n"
     ]
    }
   ],
   "source": [
    "# Visualize \n",
    "\n",
    "chat_completion = client.chat.completions.create(\n",
    "messages=[\n",
    "    {\n",
    "        \"role\": \"user\",\n",
    "        # \"content\": f\"This is the dataset i have : {tst} , give a code to visualize column1 and column2 also call it ,mention the column names exactly , give code only dont give explanation \" ,\n",
    "        \"content\": f\"This is the dataset i have : {tst} , give a code to visualize column1 and column2 using matplotlib , also call it ,give the column names exactly as in the dataset give clean code also save the plot as 'plot.png' \"\n",
    "    }\n",
    "],\n",
    "model=\"llama3-8b-8192\",\n",
    ")\n",
    "viss = chat_completion.choices[0].message.content\n",
    "print(viss)\n",
    "\n"
   ]
  },
  {
   "cell_type": "code",
   "execution_count": 31,
   "metadata": {},
   "outputs": [
    {
     "name": "stdout",
     "output_type": "stream",
     "text": [
      "\n",
      "import matplotlib.pyplot as plt\n",
      "\n",
      "# assuming your dataset is in a pandas dataframe called df\n",
      "\n",
      "plt.figure(figsize=(8, 6))\n",
      "plt.scatter(df['Alcohol value'], df['Methane value'])\n",
      "plt.xlabel('Alcohol value')\n",
      "plt.ylabel('Methane value')\n",
      "plt.title('Relationship between Alcohol value and Methane value')\n",
      "plt.show()\n",
      "\n"
     ]
    }
   ],
   "source": [
    "print(matches[0])"
   ]
  },
  {
   "cell_type": "code",
   "execution_count": 15,
   "metadata": {},
   "outputs": [
    {
     "data": {
      "text/plain": [
       "'Here is the code in Python using the matplotlib and seaborn libraries to visualize the columns \\'Alcohol value\\' and \\'Methane value\\':\\n\\n```Python\\nimport matplotlib.pyplot as plt\\nimport seaborn as sns\\nimport pandas as pd\\n\\n# Assuming your dataset is in a pandas dataframe called \\'df\\'\\nsns.set()\\nplt.figure(figsize=(10, 6))\\nsns.scatterplot(x=\\'Alcohol value\\', y=\\'Methane value\\', data=df)\\nplt.title(\\'Scatterplot of \"Alcohol value\" and \"Methane value\"\\')\\nplt.xlabel(\\'Alcohol value\\')\\nplt.ylabel(\\'Methane value\\')\\nplt.show()\\n```\\n\\nThis code creates a scatterplot that shows the relationship between the \\'Alcohol value\\' and \\'Methane value\\'. You can also use other types of plots or statistics to analyze the data, depending on your needs.\\n\\nPlease replace \\'df\\' with your actual dataset. Also, make sure to import necessary libraries and run this code in an environment where matplotlib, seaborn and pandas are installed.\\n\\nHere\\'s how to visualize other columns:\\n\\n* To visualize \\'Food Condition\\', you could create a bar chart with sns.countplot or matplotlib\\'s bar function. \\n\\n```Python\\nsns.countplot(x=\\'Food Condition\\', data=df)\\nplt.show()\\n```\\n\\n* To visualize \\'Life Expectancy\\', you could create a histogram or boxplot. \\n\\n```Python\\nsns.boxplot(x=\\'Life Expectancy\\', data=df)\\nplt.show()\\n```\\n\\n* To visualize \\'Estimated Ethylene Level\\', you could create a histogram or boxplot. \\n\\n```Python\\nsns.boxplot(x=\\'Estimated Ethylene Level\\', data=df)\\nplt.show()\\n```'"
      ]
     },
     "execution_count": 15,
     "metadata": {},
     "output_type": "execute_result"
    }
   ],
   "source": [
    "viss"
   ]
  },
  {
   "cell_type": "code",
   "execution_count": 26,
   "metadata": {},
   "outputs": [],
   "source": [
    "viss\n",
    "pattern = r\"```(.*?)```\"\n",
    "\n",
    "# Find all matches\n",
    "matches = re.findall(pattern, viss, re.DOTALL)"
   ]
  },
  {
   "cell_type": "code",
   "execution_count": 33,
   "metadata": {},
   "outputs": [
    {
     "data": {
      "image/png": "[encoded data removed]",
      "text/plain": [
       "<Figure size 800x600 with 2 Axes>"
      ]
     },
     "metadata": {},
     "output_type": "display_data"
    }
   ],
   "source": [
    "viss\n",
    "pattern = r\"```(.*?)```\"\n",
    "\n",
    "# Find all matches\n",
    "matches = re.findall(pattern, viss, re.DOTALL)\n",
    "\n",
    "# Safely parse the response text as a Python AST (Abstract Syntax Tree)\n",
    "parsed_ast = ast.parse(matches[0])\n",
    "\n",
    "# else:\n",
    "# Execute the parsed AST\n",
    "exec(compile(parsed_ast, filename=\"<ast>\", mode=\"exec\"))"
   ]
  },
  {
   "cell_type": "code",
   "execution_count": 99,
   "metadata": {},
   "outputs": [
    {
     "name": "stdout",
     "output_type": "stream",
     "text": [
      "Requirement already satisfied: streamlit in c:\\python\\lib\\site-packages (1.18.1)\n",
      "Requirement already satisfied: altair>=3.2.0 in c:\\python\\lib\\site-packages (from streamlit) (4.0.0)\n",
      "Requirement already satisfied: blinker>=1.0.0 in c:\\python\\lib\\site-packages (from streamlit) (1.7.0)\n",
      "Requirement already satisfied: cachetools>=4.0 in c:\\python\\lib\\site-packages (from streamlit) (5.3.1)\n",
      "Requirement already satisfied: click>=7.0 in c:\\python\\lib\\site-packages (from streamlit) (8.0.4)\n",
      "Requirement already satisfied: importlib-metadata>=1.4 in c:\\python\\lib\\site-packages (from streamlit) (6.0.0)\n",
      "Requirement already satisfied: numpy in c:\\python\\lib\\site-packages (from streamlit) (1.24.3)\n",
      "Requirement already satisfied: packaging>=14.1 in c:\\python\\lib\\site-packages (from streamlit) (21.3)\n",
      "Requirement already satisfied: pandas>=0.25 in c:\\python\\lib\\site-packages (from streamlit) (1.5.3)\n",
      "Requirement already satisfied: pillow>=6.2.0 in c:\\python\\lib\\site-packages (from streamlit) (9.4.0)\n",
      "Requirement already satisfied: protobuf<4,>=3.12 in c:\\python\\lib\\site-packages (from streamlit) (3.20.3)\n",
      "Requirement already satisfied: pyarrow>=4.0 in c:\\python\\lib\\site-packages (from streamlit) (14.0.2)\n",
      "Requirement already satisfied: pympler>=0.9 in c:\\python\\lib\\site-packages (from streamlit) (1.0.1)\n",
      "Requirement already satisfied: python-dateutil in c:\\users\\rajesh\\appdata\\roaming\\python\\python310\\site-packages (from streamlit) (2.8.2)\n",
      "Requirement already satisfied: requests>=2.4 in c:\\python\\lib\\site-packages (from streamlit) (2.27.1)\n",
      "Requirement already satisfied: rich>=10.11.0 in c:\\python\\lib\\site-packages (from streamlit) (13.7.0)\n",
      "Requirement already satisfied: semver in c:\\python\\lib\\site-packages (from streamlit) (3.0.2)\n",
      "Requirement already satisfied: toml in c:\\python\\lib\\site-packages (from streamlit) (0.10.2)\n",
      "Requirement already satisfied: typing-extensions>=3.10.0.0 in c:\\python\\lib\\site-packages (from streamlit) (4.7.1)\n",
      "Requirement already satisfied: tzlocal>=1.1 in c:\\python\\lib\\site-packages (from streamlit) (5.2)\n",
      "Requirement already satisfied: validators>=0.2 in c:\\python\\lib\\site-packages (from streamlit) (0.22.0)\n",
      "Requirement already satisfied: gitpython!=3.1.19 in c:\\python\\lib\\site-packages (from streamlit) (3.1.40)\n",
      "Requirement already satisfied: pydeck>=0.1.dev5 in c:\\python\\lib\\site-packages (from streamlit) (0.8.1b0)\n",
      "Requirement already satisfied: tornado>=6.0.3 in c:\\users\\rajesh\\appdata\\roaming\\python\\python310\\site-packages (from streamlit) (6.3.2)\n",
      "Requirement already satisfied: watchdog in c:\\python\\lib\\site-packages (from streamlit) (2.1.6)\n",
      "Requirement already satisfied: entrypoints in c:\\python\\lib\\site-packages (from altair>=3.2.0->streamlit) (0.4)\n",
      "Requirement already satisfied: jinja2 in c:\\python\\lib\\site-packages (from altair>=3.2.0->streamlit) (3.1.2)\n",
      "Requirement already satisfied: jsonschema in c:\\python\\lib\\site-packages (from altair>=3.2.0->streamlit) (4.17.3)\n",
      "Requirement already satisfied: toolz in c:\\python\\lib\\site-packages (from altair>=3.2.0->streamlit) (0.12.0)\n",
      "Requirement already satisfied: colorama in c:\\users\\rajesh\\appdata\\roaming\\python\\python310\\site-packages (from click>=7.0->streamlit) (0.4.6)\n",
      "Requirement already satisfied: gitdb<5,>=4.0.1 in c:\\python\\lib\\site-packages (from gitpython!=3.1.19->streamlit) (4.0.11)\n",
      "Requirement already satisfied: zipp>=0.5 in c:\\python\\lib\\site-packages (from importlib-metadata>=1.4->streamlit) (3.11.0)\n",
      "Requirement already satisfied: pyparsing!=3.0.5,>=2.0.2 in c:\\python\\lib\\site-packages (from packaging>=14.1->streamlit) (3.0.9)\n",
      "Requirement already satisfied: pytz>=2020.1 in c:\\python\\lib\\site-packages (from pandas>=0.25->streamlit) (2023.3.post1)\n",
      "Requirement already satisfied: six>=1.5 in c:\\users\\rajesh\\appdata\\roaming\\python\\python310\\site-packages (from python-dateutil->streamlit) (1.16.0)\n",
      "Requirement already satisfied: urllib3<1.27,>=1.21.1 in c:\\python\\lib\\site-packages (from requests>=2.4->streamlit) (1.26.13)\n",
      "Requirement already satisfied: certifi>=2017.4.17 in c:\\python\\lib\\site-packages (from requests>=2.4->streamlit) (2023.7.22)\n",
      "Requirement already satisfied: charset-normalizer~=2.0.0 in c:\\python\\lib\\site-packages (from requests>=2.4->streamlit) (2.0.4)\n",
      "Requirement already satisfied: idna<4,>=2.5 in c:\\python\\lib\\site-packages (from requests>=2.4->streamlit) (3.4)\n",
      "Requirement already satisfied: markdown-it-py>=2.2.0 in c:\\python\\lib\\site-packages (from rich>=10.11.0->streamlit) (3.0.0)\n",
      "Requirement already satisfied: pygments<3.0.0,>=2.13.0 in c:\\python\\lib\\site-packages (from rich>=10.11.0->streamlit) (2.14.0)\n",
      "Requirement already satisfied: tzdata in c:\\python\\lib\\site-packages (from tzlocal>=1.1->streamlit) (2023.4)\n",
      "Requirement already satisfied: smmap<6,>=3.0.1 in c:\\python\\lib\\site-packages (from gitdb<5,>=4.0.1->gitpython!=3.1.19->streamlit) (5.0.1)\n",
      "Requirement already satisfied: MarkupSafe>=2.0 in c:\\python\\lib\\site-packages (from jinja2->altair>=3.2.0->streamlit) (2.1.1)\n",
      "Requirement already satisfied: mdurl~=0.1 in c:\\python\\lib\\site-packages (from markdown-it-py>=2.2.0->rich>=10.11.0->streamlit) (0.1.2)\n",
      "Requirement already satisfied: attrs>=17.4.0 in c:\\python\\lib\\site-packages (from jsonschema->altair>=3.2.0->streamlit) (23.1.0)\n",
      "Requirement already satisfied: pyrsistent!=0.17.0,!=0.17.1,!=0.17.2,>=0.14.0 in c:\\python\\lib\\site-packages (from jsonschema->altair>=3.2.0->streamlit) (0.18.0)\n"
     ]
    }
   ],
   "source": [
    "!pip install streamlit"
   ]
  },
  {
   "cell_type": "code",
   "execution_count": 101,
   "metadata": {},
   "outputs": [
    {
     "name": "stdout",
     "output_type": "stream",
     "text": [
      "The streamlit module is not an IPython extension.\n"
     ]
    }
   ],
   "source": [
    "%load_ext streamlit"
   ]
  },
  {
   "cell_type": "code",
   "execution_count": 103,
   "metadata": {},
   "outputs": [
    {
     "name": "stderr",
     "output_type": "stream",
     "text": [
      "UsageError: Cell magic `%%streamlit` not found.\n"
     ]
    }
   ],
   "source": [
    "%%streamlit\n",
    "\n",
    "\n",
    "import streamlit as st\n",
    "\n",
    "# Set page configuration\n",
    "st.set_page_config(layout=\"wide\")\n",
    "\n",
    "# Create the layout\n",
    "col1, col2 = st.columns([3, 1])\n",
    "\n",
    "# Chat screen\n",
    "with col1:\n",
    "    st.title(\"Chat Screen\")\n",
    "    chat_history = st.empty()\n",
    "\n",
    "# Input field and send button\n",
    "with col1:\n",
    "    input_col1, input_col2 = st.columns([4, 1])\n",
    "    with input_col1:\n",
    "        user_input = st.text_input(\"Enter your message\")\n",
    "    with input_col2:\n",
    "        if st.button(\"Send\"):\n",
    "            # Add user's message to the chat history\n",
    "            chat_history.write(f\"You: {user_input}\")\n",
    "            # Clear the input field\n",
    "            user_input = \"\"\n",
    "\n",
    "# Sidebar\n",
    "with col2:\n",
    "    st.sidebar.title(\"Chat History\")\n",
    "    sidebar_history = st.sidebar.empty()\n",
    "\n",
    "# Drop Dataset button\n",
    "drop_dataset_button = st.empty()\n",
    "if drop_dataset_button.button(\"Drop Dataset\", use_container_width=True):\n",
    "    # Implement the functionality to drop the dataset\n",
    "    st.write(\"Dataset dropped successfully!\")\n",
    "    drop_dataset_button.empty()"
   ]
  },
  {
   "cell_type": "code",
   "execution_count": null,
   "metadata": {},
   "outputs": [],
   "source": []
  }
 ],
 "metadata": {
  "kernelspec": {
   "display_name": "base",
   "language": "python",
   "name": "python3"
  },
  "language_info": {
   "codemirror_mode": {
    "name": "ipython",
    "version": 3
   },
   "file_extension": ".py",
   "mimetype": "text/x-python",
   "name": "python",
   "nbconvert_exporter": "python",
   "pygments_lexer": "ipython3",
   "version": "3.10.13"
  }
 },
 "nbformat": 4,
 "nbformat_minor": 2
}
