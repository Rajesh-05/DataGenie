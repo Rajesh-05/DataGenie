{
 "cells": [
  {
   "cell_type": "code",
   "execution_count": 1,
   "metadata": {},
   "outputs": [
    {
     "data": {
      "text/plain": [
       "<flask_cors.extension.CORS at 0x2589d864910>"
      ]
     },
     "execution_count": 1,
     "metadata": {},
     "output_type": "execute_result"
    }
   ],
   "source": [
    "from flask import Flask, render_template, request, jsonify , make_response , send_file\n",
    "import re \n",
    "import ast\n",
    "from flask_cors import CORS\n",
    "import pandas as pd\n",
    "\n",
    "app = Flask(__name__)\n",
    "CORS(app)\n"
   ]
  },
  {
   "cell_type": "code",
   "execution_count": 2,
   "metadata": {},
   "outputs": [],
   "source": [
    "from groq import Groq\n",
    "\n",
    "client = Groq(\n",
    "    api_key=\"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\",\n",
    ")\n",
    "df = []\n",
    "tst = \"\"\n",
    "info = \"\""
   ]
  },
  {
   "cell_type": "code",
   "execution_count": 3,
   "metadata": {},
   "outputs": [],
   "source": [
    "def search_dataset(message) :\n",
    "    # Search DATASET ...\n",
    "\n",
    "    chat_completion = client.chat.completions.create(\n",
    "    messages=[\n",
    "\n",
    "        {\n",
    "            \"role\": \"system\",\n",
    "            \"content\": \"You are a Professional Data Scientist , Search for top 5 links from kaggle to download the dataset requested by the user , get some somewhere else if it is not in Kaggle , be precise\" ,\n",
    "        },\n",
    "        {\n",
    "            \"role\": \"user\",\n",
    "            \"content\": f\"{message}\" ,\n",
    "        }\n",
    "    ],\n",
    "    model=\"llama3-70b-8192\",\n",
    "    )\n",
    "    response_text = chat_completion.choices[0].message.content\n",
    "    print(response_text)\n",
    "    return response_text\n"
   ]
  },
  {
   "cell_type": "code",
   "execution_count": 4,
   "metadata": {},
   "outputs": [],
   "source": [
    "def preprocess(mess) :\n",
    "\n",
    "    chat_completion = client.chat.completions.create(\n",
    "        messages=[\n",
    "            {\n",
    "                \"role\": \"system\",\n",
    "                \"content\": f\"You are a Professional Data Scientist , Write a python code to complete the requested task , do all in inplace so that it updates in realtime\" ,\n",
    "            },\n",
    "            {\n",
    "                \"role\": \"user\", #and store the responses in a variable named as 'result'\n",
    "                \"content\": f\"This is the dataset i have : {tst} and it is loaded in a variable named as df, give a code to {mess} also call it  , give code only dont give explanation \" ,\n",
    "            }\n",
    "        ],\n",
    "        model=\"llama3-70b-8192\",\n",
    "        )\n",
    "    \n",
    "    # akn = client.chat.completions.create(\n",
    "    #     messages=[\n",
    "    #         {\n",
    "    #     \"role\": \"user\",\n",
    "    #     \"content\": \"Write a success aknowledgement message in 3 lines for {mess}\" ,\n",
    "    # }\n",
    "    #     ],\n",
    "    #     model=\"llama3-70b-8192\",\n",
    "    #     )\n",
    "    viss = chat_completion.choices[0].message.content\n",
    "    viss =  re.sub('python', '', viss)\n",
    "    viss =  re.sub('Python', '', viss)\n",
    "    \n",
    "    print(viss)\n",
    "    pattern = r\"```(.*?)```\"\n",
    "    local_context = {}  \n",
    "    # Find all matches\n",
    "    matches = re.findall(pattern, viss, re.DOTALL)\n",
    "    pattern12 = r\"$$(.*?)$$\"\n",
    "    matches12 = re.findall(pattern12, viss, re.DOTALL)\n",
    "\n",
    "    # Safely parse the response text as a Python AST (Abstract Syntax Tree)\n",
    "    parsed_ast = ast.parse(matches[0])\n",
    "    result = \"\"\n",
    "    # else:\n",
    "    # Execute the parsed AST\n",
    "    exec(compile(parsed_ast, filename=\"<ast>\", mode=\"exec\"))\n",
    "    # result_value = local_context.get('result')\n",
    "\n",
    "    return \"matches12[0]\",result\n"
   ]
  },
  {
   "cell_type": "code",
   "execution_count": 5,
   "metadata": {},
   "outputs": [],
   "source": [
    "@app.route('/process_file', methods=['POST'])\n",
    "def process_file():\n",
    "    global info \n",
    "    global df\n",
    "    global tst \n",
    "    file = request.files['file']\n",
    "    if file:\n",
    "        file.save('data.csv')\n",
    "        df = pd.read_csv('data.csv')\n",
    "        tst = df.head()\n",
    "        info = df.info()\n",
    "        chat_completion = client.chat.completions.create(\n",
    "        messages=[\n",
    "            {\n",
    "                \"role\": \"user\",\n",
    "                \"content\": f\"This is the dataset i have : {tst} , explain and overview of it in 2 lines\" ,\n",
    "            }\n",
    "        ],\n",
    "        model=\"llama3-70b-8192\",\n",
    "        )\n",
    "        response_text = chat_completion.choices[0].message.content\n",
    "        print(response_text)\n",
    "        return jsonify({'response': response_text})\n",
    "    else:\n",
    "        return jsonify({'response': 'No file provided'})\n",
    "\n",
    "\n"
   ]
  },
  {
   "cell_type": "code",
   "execution_count": 6,
   "metadata": {},
   "outputs": [],
   "source": [
    "# # # Process CSV \n",
    "# # @app.route('/process_data', methods=['POST'])\n",
    "\n",
    "# def process_csv () :\n",
    "#     global df\n",
    "#     path = \"\"\n",
    "#     df = pd.read_csv(path)\n",
    "#     chat_completion = client.chat.completions.create(\n",
    "#     messages=[\n",
    "#         {\n",
    "#             \"role\": \"user\",\n",
    "#             \"content\": f\"This is the dataset i have : {tst} , explain and summarize it in 2 lines\" ,\n",
    "#         }\n",
    "#     ],\n",
    "#     model=\"llama3-8b-8192\",\n",
    "#     )\n",
    "#     response_text = chat_completion.choices[0].message.content\n",
    "#     print(response_text)\n"
   ]
  },
  {
   "cell_type": "code",
   "execution_count": 7,
   "metadata": {},
   "outputs": [],
   "source": [
    "def suggest() :\n",
    "    # Suggessions\n",
    "\n",
    "    chat_completion = client.chat.completions.create(\n",
    "    messages=[\n",
    "        {\n",
    "            \"role\": \"user\",\n",
    "            \"content\": f\"I'm working on preprocessing a DataSet ,  This is the dataset i have : {tst} and its info : {info},give me 3 suggests to what to do further in 3 lines\" ,\n",
    "        }\n",
    "    ],\n",
    "    model=\"llama3-70b-8192\",\n",
    "    )\n",
    "    response_text = chat_completion.choices[0].message.content\n",
    "    return response_text"
   ]
  },
  {
   "cell_type": "code",
   "execution_count": 8,
   "metadata": {},
   "outputs": [],
   "source": [
    "def others(mess) :\n",
    "\n",
    "    chat_completion = client.chat.completions.create(\n",
    "    messages=[\n",
    "        {\n",
    "            \"role\": \"user\",\n",
    "            \"content\": f\"You are a AI data analyst , answer the below question according to your role , QUESTION : {mess}\" ,\n",
    "        }\n",
    "    ],\n",
    "    model=\"llama3-70b-8192\",\n",
    "    )\n",
    "    response_text = chat_completion.choices[0].message.content\n",
    "    return response_text"
   ]
  },
  {
   "cell_type": "code",
   "execution_count": 9,
   "metadata": {},
   "outputs": [],
   "source": [
    "cnt=1"
   ]
  },
  {
   "cell_type": "code",
   "execution_count": 10,
   "metadata": {},
   "outputs": [],
   "source": [
    "def visualize(mess) :\n",
    "    # Visualize \n",
    "    global cnt\n",
    "    chat_completion = client.chat.completions.create(\n",
    "    messages=[\n",
    "        {\n",
    "            \"role\": \"user\",\n",
    "            # \"content\": f\"This is the dataset i have : {tst} , give a code to visualize column1 and column2 also call it ,mention the column names exactly , give code only dont give explanation \" ,\n",
    "            \"content\": f\"This is the dataset i have : {tst} , give a code to visualize {mess}using matplotlib , also call it ,give the column names exactly as in the dataset give clean code also save the plot as 'plot{cnt}.png' \"\n",
    "        }\n",
    "    ],\n",
    "    model=\"llama3-70b-8192\",\n",
    "    )\n",
    "    viss = chat_completion.choices[0].message.content\n",
    "    viss =  re.sub('python', '', viss)\n",
    "    viss =  re.sub('Python', '', viss)\n",
    "    pattern = r\"```(.*?)```\"\n",
    "\n",
    "    # Find all matches\n",
    "    matches = re.findall(pattern, viss, re.DOTALL)\n",
    "\n",
    "    # Safely parse the response text as a Python AST (Abstract Syntax Tree)\n",
    "    parsed_ast = ast.parse(matches[0])\n",
    "\n",
    "    # else:\n",
    "    # Execute the parsed AST\n",
    "    exec(compile(parsed_ast, filename=\"<ast>\", mode=\"exec\"))\n",
    "    \n",
    "    return f\"C:/Prodigy/DataGenie/plot{cnt}.png\"\n",
    "\n"
   ]
  },
  {
   "cell_type": "code",
   "execution_count": null,
   "metadata": {},
   "outputs": [],
   "source": []
  },
  {
   "cell_type": "code",
   "execution_count": 11,
   "metadata": {},
   "outputs": [],
   "source": [
    "# def classify(mess) :\n",
    "    \n",
    "#     chat_completion = client.chat.completions.create(\n",
    "#     messages=[\n",
    "#         {\n",
    "#             \"role\": \"system\",\n",
    "#             \"content\": f\"\"\"You are an assistant with knowledge on Data Science who classifies user prompt into one of the following categories:\n",
    "#               visualization : if user need to visualize the data using any plots or charts,\n",
    "#               searching : If the user is searcing for dataset available in online or he wants any dataset to be searched ,\n",
    "#               data_cleaning : If the user wants to do any cleaning or preprocessing tasks ,\n",
    "#               model_training : If the user wants to train a Model ,\n",
    "#               suggestions : if the user wants to get some suggessions to what to do with the dataset  ,\n",
    "#               Quering_dataset : If the user whats to check what is in the the dataset like unique values , datatypes , df.head() , or df.tail() . \n",
    "              \n",
    "#               \\n\\n Don't give any kind of Explanation just give the classification \"\"\" ,\n",
    "#         },\n",
    "#         {\n",
    "#             \"role\": \"user\",\n",
    "#             \"content\": f\"{mess}\" ,\n",
    "#         }\n",
    "#     ],\n",
    "#     model=\"llama3-70b-8192\",\n",
    "#     )\n",
    "#     response_text = chat_completion.choices[0].message.content\n",
    "#     return response_text"
   ]
  },
  {
   "cell_type": "code",
   "execution_count": 1,
   "metadata": {},
   "outputs": [
    {
     "ename": "NameError",
     "evalue": "name 'app' is not defined",
     "output_type": "error",
     "traceback": [
      "\u001b[1;31m---------------------------------------------------------------------------\u001b[0m",
      "\u001b[1;31mNameError\u001b[0m                                 Traceback (most recent call last)",
      "Cell \u001b[1;32mIn[1], line 1\u001b[0m\n\u001b[1;32m----> 1\u001b[0m \u001b[38;5;129m@app\u001b[39m\u001b[38;5;241m.\u001b[39mroute(\u001b[38;5;124m'\u001b[39m\u001b[38;5;124m/\u001b[39m\u001b[38;5;124m'\u001b[39m)\n\u001b[0;32m      2\u001b[0m \u001b[38;5;28;01mdef\u001b[39;00m \u001b[38;5;21mindex\u001b[39m():\n\u001b[0;32m      3\u001b[0m     \u001b[38;5;28;01mreturn\u001b[39;00m render_template(\u001b[38;5;124m'\u001b[39m\u001b[38;5;124mindex.html\u001b[39m\u001b[38;5;124m'\u001b[39m)\n\u001b[0;32m      5\u001b[0m \u001b[38;5;129m@app\u001b[39m\u001b[38;5;241m.\u001b[39mroute(\u001b[38;5;124m'\u001b[39m\u001b[38;5;124m/send_message\u001b[39m\u001b[38;5;124m'\u001b[39m, methods\u001b[38;5;241m=\u001b[39m[\u001b[38;5;124m'\u001b[39m\u001b[38;5;124mPOST\u001b[39m\u001b[38;5;124m'\u001b[39m])\n\u001b[0;32m      6\u001b[0m \u001b[38;5;28;01mdef\u001b[39;00m \u001b[38;5;21msend_message\u001b[39m():\n",
      "\u001b[1;31mNameError\u001b[0m: name 'app' is not defined"
     ]
    }
   ],
   "source": [
    "\n",
    "@app.route('/')\n",
    "def index():\n",
    "    return render_template('index.html')\n",
    "\n",
    "@app.route('/send_message', methods=['POST'])\n",
    "def send_message():\n",
    "    global cnt\n",
    "    message = request.get_json()['message']\n",
    "    cls = classify(message)\n",
    "    print(cls)\n",
    "    if \"visualization\" in cls :\n",
    "        res = visualize(message)\n",
    "        cnt += 1\n",
    "        return jsonify({'response': \"image\" , \"path\" : res})\n",
    "    elif \"searching\" in cls :\n",
    "        res = search_dataset(message)\n",
    "\n",
    "    elif 'data_cleaning' in cls or 'Quering_dataset' in cls :\n",
    "        akg,msg = preprocess(message)\n",
    "        res = akg+'\\n\\n' +msg\n",
    "        # return res\n",
    "    elif 'suggestions' in cls :\n",
    "        res = suggest()\n",
    "        # return res\n",
    "    elif 'model_training' in cls :\n",
    "        pass\n",
    "        # res = suggest()\n",
    "        # return res\n",
    "    else :\n",
    "        res = others(message)\n",
    "\n",
    "    print(res)\n",
    "    # if \"visualize\" in message.lower() or \"plot\" in message.lower() :\n",
    "    #     res = visualize(message)\n",
    "    #     cnt += 1\n",
    "    #     return jsonify({'response': \"image\" , \"path\" : res})\n",
    "    # response = process_message(message)\n",
    "    return jsonify({'response': res })\n",
    "\n",
    "\n",
    "def classify(mess) :\n",
    "    \n",
    "    chat_completion = client.chat.completions.create(\n",
    "    messages=[\n",
    "        {\n",
    "            \"role\": \"system\",\n",
    "            \"content\": f\"\"\"You are an assistant with knowledge on Data Science who classifies user prompt into one of the following categories:\n",
    "              visualization : if user need to visualize the data using any plots or charts,\n",
    "              searching : If the user is searcing for dataset available in online or he wants any dataset to be searched ,\n",
    "              data_cleaning : If the user wants to do any cleaning or preprocessing tasks ,\n",
    "              model_training : If the user wants to train a Model ,\n",
    "              suggestions : if the user wants to get some suggessions to what to do with the dataset  ,\n",
    "              Quering_dataset : If the user whats to check what is in the the dataset like unique values , datatypes , df.head() , or df.tail() , \n",
    "              Others : If the query doesn't falls below any of the above classes like Hi , Hello and more .\n",
    "\n",
    "              \\n\\n Don't give any kind of Explanation just give the classification \"\"\" ,\n",
    "        },\n",
    "        {\n",
    "            \"role\": \"user\",\n",
    "            \"content\": f\"{mess}\" ,\n",
    "        }\n",
    "    ],\n",
    "    model=\"llama3-70b-8192\",\n",
    "    )\n",
    "    response_text = chat_completion.choices[0].message.content\n",
    "    return response_text\n",
    "def process_message(message):\n",
    "    # Implement your chatbot logic here\n",
    "    res = \"\"\n",
    "    if \"search a dataset\" in message.lower() :\n",
    "        res = search_dataset(message)\n",
    "        # return res\n",
    "\n",
    "        # return res\n",
    "    if 'preprocess' in message.lower() or 'clean' in message.lower() :\n",
    "        res = preprocess(message)\n",
    "        # return res\n",
    "    if 'suggest' in message.lower() or 'next' in message.lower() :\n",
    "        res = ()\n",
    "        # return res\n",
    "    else :\n",
    "        res = others(message)\n",
    "        \n",
    "    return res\n",
    "    return \"image\"\n"
   ]
  },
  {
   "cell_type": "code",
   "execution_count": null,
   "metadata": {},
   "outputs": [],
   "source": [
    "@app.route('/download', methods=['GET'])\n",
    "def download_csv():\n",
    "    # Convert the DataFrame to a CSV string\n",
    "    csv_string = df.to_csv(index=False)\n",
    "\n",
    "    # Set the response headers\n",
    "    response = make_response(csv_string)\n",
    "    response.headers['Content-Disposition'] = 'attachment; filename=\"data.csv\"'\n",
    "    response.headers['Content-Type'] = 'text/csv'\n",
    "\n",
    "    return response"
   ]
  },
  {
   "cell_type": "code",
   "execution_count": null,
   "metadata": {},
   "outputs": [],
   "source": []
  },
  {
   "cell_type": "code",
   "execution_count": 14,
   "metadata": {},
   "outputs": [
    {
     "name": "stdout",
     "output_type": "stream",
     "text": [
      " * Serving Flask app '__main__'\n"
     ]
    },
    {
     "name": "stdout",
     "output_type": "stream",
     "text": [
      " * Debug mode: off\n"
     ]
    },
    {
     "name": "stderr",
     "output_type": "stream",
     "text": [
      "WARNING: This is a development server. Do not use it in a production deployment. Use a production WSGI server instead.\n",
      " * Running on http://127.0.0.1:7000\n",
      "Press CTRL+C to quit\n"
     ]
    },
    {
     "name": "stdout",
     "output_type": "stream",
     "text": [
      "<class 'pandas.core.frame.DataFrame'>\n",
      "RangeIndex: 200 entries, 0 to 199\n",
      "Data columns (total 5 columns):\n",
      " #   Column                  Non-Null Count  Dtype \n",
      "---  ------                  --------------  ----- \n",
      " 0   CustomerID              200 non-null    int64 \n",
      " 1   Gender                  200 non-null    object\n",
      " 2   Age                     200 non-null    int64 \n",
      " 3   Annual Income (k$)      200 non-null    int64 \n",
      " 4   Spending Score (1-100)  200 non-null    int64 \n",
      "dtypes: int64(4), object(1)\n",
      "memory usage: 7.9+ KB\n"
     ]
    },
    {
     "name": "stderr",
     "output_type": "stream",
     "text": [
      "127.0.0.1 - - [13/Jul/2024 13:13:42] \"POST /process_file HTTP/1.1\" 200 -\n"
     ]
    },
    {
     "name": "stdout",
     "output_type": "stream",
     "text": [
      "This dataset contains information about 5 customers, including their demographic characteristics such as gender, age, and annual income, as well as their spending habits represented by a spending score. The data aims to provide insights into the customers' behavior and preferences, potentially helping businesses to tailor their marketing strategies and improve customer engagement.\n"
     ]
    },
    {
     "name": "stderr",
     "output_type": "stream",
     "text": [
      "127.0.0.1 - - [13/Jul/2024 13:14:05] \"OPTIONS /send_message HTTP/1.1\" 200 -\n"
     ]
    },
    {
     "name": "stdout",
     "output_type": "stream",
     "text": [
      "Quering_dataset\n"
     ]
    },
    {
     "name": "stderr",
     "output_type": "stream",
     "text": [
      "127.0.0.1 - - [13/Jul/2024 13:14:06] \"POST /send_message HTTP/1.1\" 200 -\n"
     ]
    },
    {
     "name": "stdout",
     "output_type": "stream",
     "text": [
      "Here is the  code to get unique values in each column of the dataset and store the result in a variable named `result`:\n",
      "\n",
      "```\n",
      "result = {col: df[col].nunique() for col in df.columns}\n",
      "print(result)\n",
      "\n",
      "result_unique_values = {col: df[col].unique() for col in df.columns}\n",
      "print(result_unique_values)\n",
      "```\n",
      "{'CustomerID': 200, 'Gender': 2, 'Age': 51, 'Annual Income (k$)': 64, 'Spending Score (1-100)': 84}\n",
      "{'CustomerID': array([  1,   2,   3,   4,   5,   6,   7,   8,   9,  10,  11,  12,  13,\n",
      "        14,  15,  16,  17,  18,  19,  20,  21,  22,  23,  24,  25,  26,\n",
      "        27,  28,  29,  30,  31,  32,  33,  34,  35,  36,  37,  38,  39,\n",
      "        40,  41,  42,  43,  44,  45,  46,  47,  48,  49,  50,  51,  52,\n",
      "        53,  54,  55,  56,  57,  58,  59,  60,  61,  62,  63,  64,  65,\n",
      "        66,  67,  68,  69,  70,  71,  72,  73,  74,  75,  76,  77,  78,\n",
      "        79,  80,  81,  82,  83,  84,  85,  86,  87,  88,  89,  90,  91,\n",
      "        92,  93,  94,  95,  96,  97,  98,  99, 100, 101, 102, 103, 104,\n",
      "       105, 106, 107, 108, 109, 110, 111, 112, 113, 114, 115, 116, 117,\n",
      "       118, 119, 120, 121, 122, 123, 124, 125, 126, 127, 128, 129, 130,\n",
      "       131, 132, 133, 134, 135, 136, 137, 138, 139, 140, 141, 142, 143,\n",
      "       144, 145, 146, 147, 148, 149, 150, 151, 152, 153, 154, 155, 156,\n",
      "       157, 158, 159, 160, 161, 162, 163, 164, 165, 166, 167, 168, 169,\n",
      "       170, 171, 172, 173, 174, 175, 176, 177, 178, 179, 180, 181, 182,\n",
      "       183, 184, 185, 186, 187, 188, 189, 190, 191, 192, 193, 194, 195,\n",
      "       196, 197, 198, 199, 200], dtype=int64), 'Gender': array(['Male', 'Female'], dtype=object), 'Age': array([19, 21, 20, 23, 31, 22, 35, 64, 30, 67, 58, 24, 37, 52, 25, 46, 54,\n",
      "       29, 45, 40, 60, 53, 18, 49, 42, 36, 65, 48, 50, 27, 33, 59, 47, 51,\n",
      "       69, 70, 63, 43, 68, 32, 26, 57, 38, 55, 34, 66, 39, 44, 28, 56, 41],\n",
      "      dtype=int64), 'Annual Income (k$)': array([ 15,  16,  17,  18,  19,  20,  21,  23,  24,  25,  28,  29,  30,\n",
      "        33,  34,  37,  38,  39,  40,  42,  43,  44,  46,  47,  48,  49,\n",
      "        50,  54,  57,  58,  59,  60,  61,  62,  63,  64,  65,  67,  69,\n",
      "        70,  71,  72,  73,  74,  75,  76,  77,  78,  79,  81,  85,  86,\n",
      "        87,  88,  93,  97,  98,  99, 101, 103, 113, 120, 126, 137],\n",
      "      dtype=int64), 'Spending Score (1-100)': array([39, 81,  6, 77, 40, 76, 94,  3, 72, 14, 99, 15, 13, 79, 35, 66, 29,\n",
      "       98, 73,  5, 82, 32, 61, 31, 87,  4, 92, 17, 26, 75, 36, 28, 65, 55,\n",
      "       47, 42, 52, 60, 54, 45, 41, 50, 46, 51, 56, 59, 48, 49, 53, 44, 57,\n",
      "       58, 43, 91, 95, 11,  9, 34, 71, 88,  7, 10, 93, 12, 97, 74, 22, 90,\n",
      "       20, 16, 89,  1, 78, 83, 27, 63, 86, 69, 24, 68, 85, 23,  8, 18],\n",
      "      dtype=int64)}\n",
      "matches12[0]\n",
      "\n",
      "\n"
     ]
    }
   ],
   "source": [
    "if __name__ == '__main__':\n",
    "    app.run(port=7000)\n"
   ]
  },
  {
   "cell_type": "code",
   "execution_count": null,
   "metadata": {},
   "outputs": [],
   "source": []
  }
 ],
 "metadata": {
  "kernelspec": {
   "display_name": "base",
   "language": "python",
   "name": "python3"
  },
  "language_info": {
   "codemirror_mode": {
    "name": "ipython",
    "version": 3
   },
   "file_extension": ".py",
   "mimetype": "text/x-python",
   "name": "python",
   "nbconvert_exporter": "python",
   "pygments_lexer": "ipython3",
   "version": "3.10.13"
  }
 },
 "nbformat": 4,
 "nbformat_minor": 2
}
